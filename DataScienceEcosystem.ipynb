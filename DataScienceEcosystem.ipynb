{
 "cells": [
  {
   "cell_type": "markdown",
   "id": "8cd6727e-7974-4ca2-9564-9f0052fd35ce",
   "metadata": {},
   "source": [
    "# Data Science Tools and Ecosystem"
   ]
  },
  {
   "cell_type": "markdown",
   "id": "c0097cd7-0ea5-4631-b89b-5be6fc7906c6",
   "metadata": {},
   "source": [
    "In this notebook, Data Science Basics, Tools and Ecosystem are summarized."
   ]
  },
  {
   "cell_type": "markdown",
   "id": "b6434174-d3eb-4c9e-96b1-25b341058946",
   "metadata": {},
   "source": [
    "**Objectives:**\n",
    "* Describe the components of a Data Scientist's toolkit.\n",
    "* List various tool categories.\n",
    "* List popular languages for Data Science.\n",
    "* Describe how to use a learning model to solve a problem.\n",
    "* Create a Jupyter Notebook with markdown and code cells."
   ]
  },
  {
   "cell_type": "markdown",
   "id": "3a94caca-f6f9-4d64-856a-2bea0c84b156",
   "metadata": {},
   "source": [
    "Some of the popular languages that Data Scientists use are:\n",
    "1. Python\n",
    "2. R\n",
    "3. Java\n",
    "4. Scala\n",
    "5. C++"
   ]
  },
  {
   "cell_type": "markdown",
   "id": "1d6d8b20-0ef2-470e-988c-4096e68760a3",
   "metadata": {},
   "source": [
    "Some of the commonly used libraries used by Data Scientists include:\n",
    "1. Numpy\n",
    "2. Scipy\n",
    "3. Pandas\n",
    "4. Scikit-learn\n",
    "5. Matplotlib\n",
    "6. Seaborn"
   ]
  },
  {
   "cell_type": "markdown",
   "id": "d46b1696-ee39-49d6-a95d-2bfc1d2f2f90",
   "metadata": {},
   "source": [
    "|Data Science Tools|\n",
    "|-----|\n",
    "|JupyterLab|\n",
    "|Visual Studio Code|\n",
    "|Google Colaboratory|"
   ]
  },
  {
   "cell_type": "markdown",
   "id": "31f596f0-7544-43b7-8ba2-54793c93e948",
   "metadata": {},
   "source": [
    "### Below are a few examples of evaluating arithmetic expressions in Python:\n",
    "\n",
    "| Operation | Significance |  \n",
    "|:---:|:---:|\n",
    "| $x+y$ | Addition |\n",
    "| $x-y$ | Soustraction |\n",
    "| $x/y$ | Division |\n",
    "| $x*y$ | Multiplication |\n",
    "| $x\\%y$ | Remainder of the Euclidean division |\n",
    "| $x//y$ | Quotient of the Euclidean division |"
   ]
  },
  {
   "cell_type": "code",
   "execution_count": 1,
   "id": "2c78a75c-fea9-41d7-9b5d-6dfa2a606fcf",
   "metadata": {},
   "outputs": [
    {
     "data": {
      "text/plain": [
       "17"
      ]
     },
     "execution_count": 1,
     "metadata": {},
     "output_type": "execute_result"
    }
   ],
   "source": [
    "# This a simple arithmetic expression to mutiply then add integers\n",
    "(3*4)+5"
   ]
  },
  {
   "cell_type": "code",
   "execution_count": 2,
   "id": "d2e64fda-d75b-411b-8f51-6fd3cef19fdb",
   "metadata": {},
   "outputs": [
    {
     "data": {
      "text/plain": [
       "3.3333333333333335"
      ]
     },
     "execution_count": 2,
     "metadata": {},
     "output_type": "execute_result"
    }
   ],
   "source": [
    "# This will convert 200 minutes to hours by diving by 60\n",
    "Time_minutes = 200\n",
    "Time_hours = Time_minutes / 60\n",
    "Time_hours"
   ]
  },
  {
   "cell_type": "markdown",
   "id": "2a0b7e58-01b0-4c63-94bc-625a82f35637",
   "metadata": {},
   "source": [
    "## Author\n",
    "Afif Beji"
   ]
  },
  {
   "cell_type": "markdown",
   "id": "4fc5d2a9-7e44-4e43-a5e7-b8a4984ce844",
   "metadata": {},
   "source": []
  }
 ],
 "metadata": {
  "kernelspec": {
   "display_name": "Python 3 (ipykernel)",
   "language": "python",
   "name": "python3"
  },
  "language_info": {
   "codemirror_mode": {
    "name": "ipython",
    "version": 3
   },
   "file_extension": ".py",
   "mimetype": "text/x-python",
   "name": "python",
   "nbconvert_exporter": "python",
   "pygments_lexer": "ipython3",
   "version": "3.11.7"
  }
 },
 "nbformat": 4,
 "nbformat_minor": 5
}
